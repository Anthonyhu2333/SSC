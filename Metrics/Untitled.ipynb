{
 "cells": [
  {
   "cell_type": "code",
   "execution_count": 1,
   "id": "f82a788a-77a3-4aea-83ff-2f5c580aa395",
   "metadata": {},
   "outputs": [],
   "source": [
    "import json\n",
    "text = 'Delta compression using up to 128 threads.'\n",
    "\n",
    "with open('test.json', 'w') as f:\n",
    "    data = [{'document': text, 'claim': text}]*10\n",
    "    f.writelines(json.dumps(data))\n",
    "    "
   ]
  },
  {
   "cell_type": "code",
   "execution_count": 2,
   "id": "3007274c-8751-41b2-a361-25dddf86c70c",
   "metadata": {},
   "outputs": [],
   "source": [
    "from utils import SummaryDataset\n",
    "from torch.utils.data import DataLoader\n",
    "\n",
    "mydataset = SummaryDataset('test.json')\n",
    "dataloader = DataLoader(mydataset, batch_size=4)"
   ]
  },
  {
   "cell_type": "code",
   "execution_count": 3,
   "id": "bdf5ca52-9102-4493-98c7-2b76f5a1a94e",
   "metadata": {},
   "outputs": [
    {
     "data": {
      "text/plain": [
       "{'dataset': <utils.SummaryDataset at 0x7ff30c77a430>,\n",
       " 'num_workers': 0,\n",
       " 'prefetch_factor': 2,\n",
       " 'pin_memory': False,\n",
       " 'timeout': 0,\n",
       " 'worker_init_fn': None,\n",
       " '_DataLoader__multiprocessing_context': None,\n",
       " '_dataset_kind': 0,\n",
       " 'batch_size': 4,\n",
       " 'drop_last': False,\n",
       " 'sampler': <torch.utils.data.sampler.SequentialSampler at 0x7ff30c715a90>,\n",
       " 'batch_sampler': <torch.utils.data.sampler.BatchSampler at 0x7ff30c715970>,\n",
       " 'generator': None,\n",
       " 'collate_fn': <function torch.utils.data._utils.collate.default_collate(batch)>,\n",
       " 'persistent_workers': False,\n",
       " '_DataLoader__initialized': True,\n",
       " '_IterableDataset_len_called': None,\n",
       " '_iterator': None}"
      ]
     },
     "execution_count": 3,
     "metadata": {},
     "output_type": "execute_result"
    }
   ],
   "source": [
    "dataloader.__dict__"
   ]
  },
  {
   "cell_type": "code",
   "execution_count": 4,
   "id": "89e3df24-9a4d-4e5a-88af-13be2db5704c",
   "metadata": {},
   "outputs": [],
   "source": [
    "result = []\n",
    "for batch in dataloader:\n",
    "    result.append(batch)"
   ]
  },
  {
   "cell_type": "code",
   "execution_count": 6,
   "id": "ea6cbeaf-40b8-420c-b900-07a6cc71a583",
   "metadata": {},
   "outputs": [
    {
     "data": {
      "text/plain": [
       "[{'document': ['Delta compression using up to 128 threads.',\n",
       "   'Delta compression using up to 128 threads.',\n",
       "   'Delta compression using up to 128 threads.',\n",
       "   'Delta compression using up to 128 threads.'],\n",
       "  'claim': ['Delta compression using up to 128 threads.',\n",
       "   'Delta compression using up to 128 threads.',\n",
       "   'Delta compression using up to 128 threads.',\n",
       "   'Delta compression using up to 128 threads.']},\n",
       " {'document': ['Delta compression using up to 128 threads.',\n",
       "   'Delta compression using up to 128 threads.',\n",
       "   'Delta compression using up to 128 threads.',\n",
       "   'Delta compression using up to 128 threads.'],\n",
       "  'claim': ['Delta compression using up to 128 threads.',\n",
       "   'Delta compression using up to 128 threads.',\n",
       "   'Delta compression using up to 128 threads.',\n",
       "   'Delta compression using up to 128 threads.']},\n",
       " {'document': ['Delta compression using up to 128 threads.',\n",
       "   'Delta compression using up to 128 threads.'],\n",
       "  'claim': ['Delta compression using up to 128 threads.',\n",
       "   'Delta compression using up to 128 threads.']}]"
      ]
     },
     "execution_count": 6,
     "metadata": {},
     "output_type": "execute_result"
    }
   ],
   "source": [
    "result"
   ]
  },
  {
   "cell_type": "code",
   "execution_count": null,
   "id": "b9a6d6b8-700c-4fd4-b036-d9ab22401b13",
   "metadata": {},
   "outputs": [],
   "source": []
  }
 ],
 "metadata": {
  "kernelspec": {
   "display_name": "Python 3 (ipykernel)",
   "language": "python",
   "name": "python3"
  },
  "language_info": {
   "codemirror_mode": {
    "name": "ipython",
    "version": 3
   },
   "file_extension": ".py",
   "mimetype": "text/x-python",
   "name": "python",
   "nbconvert_exporter": "python",
   "pygments_lexer": "ipython3",
   "version": "3.8.10"
  }
 },
 "nbformat": 4,
 "nbformat_minor": 5
}
