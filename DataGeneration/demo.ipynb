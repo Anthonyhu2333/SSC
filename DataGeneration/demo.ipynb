{
 "cells": [
  {
   "cell_type": "code",
   "execution_count": 1,
   "id": "ab1f5d33-318d-4cc9-8f89-fb562a2139f7",
   "metadata": {},
   "outputs": [],
   "source": [
    "from benchmark import SummaCBenchmark\n",
    "benchmark = SummaCBenchmark()"
   ]
  },
  {
   "cell_type": "code",
   "execution_count": 4,
   "id": "1814e287-96b9-463f-aeab-ff3d6d3fcdca",
   "metadata": {},
   "outputs": [
    {
     "name": "stderr",
     "output_type": "stream",
     "text": [
      "Using the latest cached version of the module from /root/.cache/huggingface/modules/datasets_modules/datasets/xsum/082863bf4754ee058a5b6f6525d0cb2b18eadb62c7b370b095d1364050a52b71 (last modified on Wed Mar 22 12:21:03 2023) since it couldn't be found locally at xsum/xsum.py or remotely (ReadTimeout).\n",
      "Using custom data configuration default\n",
      "Reusing dataset xsum (/root/.cache/huggingface/datasets/xsum/default/1.2.0/082863bf4754ee058a5b6f6525d0cb2b18eadb62c7b370b095d1364050a52b71)\n"
     ]
    }
   ],
   "source": [
    "from benchmark import \n"
   ]
  },
  {
   "cell_type": "code",
   "execution_count": 18,
   "id": "6c4863e8-eab3-455f-910a-819e6e2d6e75",
   "metadata": {},
   "outputs": [
    {
     "data": {
      "text/plain": [
       "[]"
      ]
     },
     "execution_count": 18,
     "metadata": {},
     "output_type": "execute_result"
    }
   ],
   "source": [
    "result = benchmark.load_frank_sentence_by_error('PredE')\n",
    "result"
   ]
  },
  {
   "cell_type": "code",
   "execution_count": 13,
   "id": "7f9ac4d9-f986-468a-80fd-fbc735d324b1",
   "metadata": {},
   "outputs": [
    {
     "data": {
      "text/plain": [
       "{'document': 'Harry Maceachen, from Shrewsbury, was born with a rare disease and had the life-saving transplant on Thursday.\\nHis father Simon donated part of his liver after no suitable match was found from the organ donor register.\\nGrandmother Alison Price, a former theatre sister, said: \"The consultants are very happy with their progress.\"\\nShe said it had been a \"very, very difficult 12 months\", adding: \"The operations were satisfactory. Everything is going on according to plan....the consultants are very happy with their progress.\"\\nHarry was born with biliary atresia, which meant he had blocked bile ducts.\\nHe had a transplant before his first birthday but that liver had begun to fail, so a second one was required.\\nHarry underwent the operation on Thursday at Birmingham Children\\'s Hospital and Mr Maceachen was operated on at Queen Elizabeth Hospital in the city.\\nHis grandmother said: \"I used to look after him (Harry) three days a week when his mother went back to teaching and he got to know me very well.\\n\"I think we\\'ve got a special bond. He was born on my 63rd birthday.\"\\nShe said Harry\\'s two-year-old brother, Sam, has been \"impeccably behaved\".\\n\"It\\'s hard for him. It\\'s the first time he\\'s been away from his mother for as long as this and he obviously misses Harry, as we all do.\"\\nShe added: \"It\\'s brilliant with the support (the family have) had and the support we\\'ve had as grandparents.\\n\"The whole family\\'s pulled together and they have a wonderful lot of friends.\"',\n",
       " 'summary': 'The grandmother of a four-year-old boy who received part of his father\\'s liver has said all is going \"according to plan\" following the operation.',\n",
       " 'id': '35735940'}"
      ]
     },
     "execution_count": 13,
     "metadata": {},
     "output_type": "execute_result"
    }
   ],
   "source": [
    "benchmark.xsum[500]"
   ]
  },
  {
   "cell_type": "code",
   "execution_count": 16,
   "id": "a82178ae-f043-4d11-aed0-eb73efa7dad2",
   "metadata": {},
   "outputs": [
    {
     "name": "stderr",
     "output_type": "stream",
     "text": [
      "[nltk_data] Downloading package stopwords to /root/nltk_data...\n",
      "[nltk_data]   Unzipping corpora/stopwords.zip.\n"
     ]
    },
    {
     "data": {
      "text/plain": [
       "True"
      ]
     },
     "execution_count": 16,
     "metadata": {},
     "output_type": "execute_result"
    }
   ],
   "source": [
    "import nltk\n",
    "nltk.download('stopwords')"
   ]
  },
  {
   "cell_type": "code",
   "execution_count": null,
   "id": "7ad62587-fa31-4e32-abcc-8f5bbe9db74f",
   "metadata": {},
   "outputs": [],
   "source": []
  }
 ],
 "metadata": {
  "kernelspec": {
   "display_name": "Python 3 (ipykernel)",
   "language": "python",
   "name": "python3"
  },
  "language_info": {
   "codemirror_mode": {
    "name": "ipython",
    "version": 3
   },
   "file_extension": ".py",
   "mimetype": "text/x-python",
   "name": "python",
   "nbconvert_exporter": "python",
   "pygments_lexer": "ipython3",
   "version": "3.8.10"
  }
 },
 "nbformat": 4,
 "nbformat_minor": 5
}
