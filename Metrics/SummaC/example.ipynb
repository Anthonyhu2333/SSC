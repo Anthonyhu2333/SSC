{
 "cells": [
  {
   "cell_type": "code",
   "execution_count": 1,
   "id": "f09dab3f-e501-4644-acba-9a2c7ba33222",
   "metadata": {},
   "outputs": [
    {
     "name": "stdout",
     "output_type": "stream",
     "text": [
      "<All keys matched successfully>\n",
      "[Summary 1] SummaCZS Score: 0.582; SummacConv score: 0.536\n",
      "[Summary 2] SummaCZS Score: 0.877; SummacConv score: 0.709\n"
     ]
    }
   ],
   "source": [
    "from summac.model_summac import SummaCZS, SummaCConv\n",
    "\n",
    "model_zs = SummaCZS(granularity=\"sentence\", model_name=\"vitc\", device=\"cuda\") # If you have a GPU: switch to: device=\"cuda\"\n",
    "model_conv = SummaCConv(models=[\"vitc\"], bins='percentile', granularity=\"sentence\", nli_labels=\"e\", device=\"cpu\", start_file=\"default\", agg=\"mean\")\n",
    "\n",
    "document = \"\"\"Scientists are studying Mars to learn about the Red Planet and find landing sites for future missions.\n",
    "One possible site, known as Arcadia Planitia, is covered instrange sinuous features.\n",
    "The shapes could be signs that the area is actually made of glaciers, which are large masses of slow-moving ice.\n",
    "Arcadia Planitia is in Mars' northern lowlands.\"\"\"\n",
    "\n",
    "summary1 = \"There are strange shape patterns on Arcadia Planitia. The shapes could indicate the area might be made of glaciers. This makes Arcadia Planitia ideal for future missions.\"\n",
    "score_zs1 = model_zs.score([document], [summary1])\n",
    "score_conv1 = model_conv.score([document], [summary1])\n",
    "print(\"[Summary 1] SummaCZS Score: %.3f; SummacConv score: %.3f\" % (score_zs1[\"scores\"][0], score_conv1[\"scores\"][0])) # [Summary 1] SummaCZS Score: 0.582; SummacConv score: 0.536\n",
    "\n",
    "summary2 = \"There are strange shape patterns on Arcadia Planitia. The shapes could indicate the area might be made of glaciers.\"\n",
    "score_zs2 = model_zs.score([document], [summary2])\n",
    "score_conv2 = model_conv.score([document], [summary2])\n",
    "print(\"[Summary 2] SummaCZS Score: %.3f; SummacConv score: %.3f\" % (score_zs2[\"scores\"][0], score_conv2[\"scores\"][0])) # [Summary 2] SummaCZS Score: 0.877; SummacConv score: 0.709"
   ]
  },
  {
   "cell_type": "code",
   "execution_count": 2,
   "id": "2c9e89f6-bacd-4b7e-a5da-e6870eb5e23f",
   "metadata": {},
   "outputs": [
    {
     "name": "stderr",
     "output_type": "stream",
     "text": [
      "[nltk_data] Downloading package punkt to /root/nltk_data...\n",
      "[nltk_data]   Unzipping tokenizers/punkt.zip.\n"
     ]
    },
    {
     "data": {
      "text/plain": [
       "True"
      ]
     },
     "execution_count": 2,
     "metadata": {},
     "output_type": "execute_result"
    }
   ],
   "source": [
    "import nltk\n",
    "nltk.download('punkt')"
   ]
  },
  {
   "cell_type": "code",
   "execution_count": null,
   "id": "ebbf56b6-c582-4dd5-960d-0d676396ca16",
   "metadata": {},
   "outputs": [],
   "source": []
  }
 ],
 "metadata": {
  "kernelspec": {
   "display_name": "Python 3 (ipykernel)",
   "language": "python",
   "name": "python3"
  },
  "language_info": {
   "codemirror_mode": {
    "name": "ipython",
    "version": 3
   },
   "file_extension": ".py",
   "mimetype": "text/x-python",
   "name": "python",
   "nbconvert_exporter": "python",
   "pygments_lexer": "ipython3",
   "version": "3.8.10"
  }
 },
 "nbformat": 4,
 "nbformat_minor": 5
}
