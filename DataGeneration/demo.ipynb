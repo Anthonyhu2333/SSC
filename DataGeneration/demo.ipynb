{
 "cells": [
  {
   "cell_type": "code",
   "execution_count": 2,
   "id": "ab1f5d33-318d-4cc9-8f89-fb562a2139f7",
   "metadata": {},
   "outputs": [
    {
     "data": {
      "text/plain": [
       "1486"
      ]
     },
     "execution_count": 2,
     "metadata": {},
     "output_type": "execute_result"
    }
   ],
   "source": [
    "from benchmark import SummaCBenchmark\n",
    "benchmark = SummaCBenchmark()\n",
    "benchmark.load_frank_sentence()\n",
    "len(benchmark.datasets[0]['dataset'])"
   ]
  },
  {
   "cell_type": "code",
   "execution_count": 4,
   "id": "1814e287-96b9-463f-aeab-ff3d6d3fcdca",
   "metadata": {
    "tags": []
   },
   "outputs": [
    {
     "data": {
      "text/plain": [
       "{'document': 'Share this withEmailFacebookMessengerMessengerTwitterPinterestWhatsAppLinkedinCopy this linkResearchers found that four out of five children in England who ate school lunches had tried food at school that they had not tried at home.Half of parents questioned said their children had asked for foods they had eaten at school to be cooked at home.The survey, of about 1,000 parents, found the most popular vegetables were carrots, sweetcorn and peas.Aubergine, chickpeas and spinach were among the least popular.Of the parents questioned, 628 had children who ate school lunches.(% denotes proportion of parents who said their child would eat each vegetable)England\\'s School Food Trust commissioned the research after a survey by the Mumsnet website suggested some parents gave their children packed lunches because they thought they were too fussy to eat anything else.Trust chairman, Rob Rees, said: \"Every parent knows it\\'s a nightmare watching their child push food around the plate.\"School meals can be a great way to help parents encourage their children to try new foods and to increase the variety of foods in their diet.\"Mumsnet co-founder, Carrie Longton, said: \"Getting children to eat healthily is every parent\\'s dream, but meal times at home can often be a battle ground and emotionally charged.\"From Mumsnetters\\' experience it seems that once at school there\\'s a desire to fit in with everyone else and even some positive peer pressure to boast about the variety of what foods you can eat.\"School meals have also moved on quite a bit from when Mumsnetters were at school, with healthier options and more variety.\"School meals in England now have to comply with strict nutritional guidelines.About four in 10 primary school children in England now eat school lunches, slightly more than in secondary schools.More children in Scotland eat school lunches - about 46%.The survey was conducted online between 26 February and 5th March among a panel of parents who had at least one child in school aged 4-17 years old.',\n",
       " 'claim': 'children who eat healthily is too fussy to eat healthily, a survey has found that children have been cooked and cooked.',\n",
       " 'label': 0,\n",
       " 'cut': 'val',\n",
       " 'hash': '11154244',\n",
       " 'model_name': 'PtGen',\n",
       " 'annotations': ['GramE', 'EntE', 'OutE', 'GramE'],\n",
       " 'dataset': 'frank',\n",
       " 'origin': 'xsum'}"
      ]
     },
     "execution_count": 4,
     "metadata": {},
     "output_type": "execute_result"
    }
   ],
   "source": [
    "benchmark.datasets[0]['dataset'][200]"
   ]
  },
  {
   "cell_type": "code",
   "execution_count": 1,
   "id": "4bd0042e-a349-4eff-b7b4-fbf3481d3b67",
   "metadata": {},
   "outputs": [
    {
     "ename": "NameError",
     "evalue": "name 'benchmark' is not defined",
     "output_type": "error",
     "traceback": [
      "\u001b[0;31m---------------------------------------------------------------------------\u001b[0m",
      "\u001b[0;31mNameError\u001b[0m                                 Traceback (most recent call last)",
      "\u001b[0;32m/tmp/ipykernel_843/3033064393.py\u001b[0m in \u001b[0;36m<module>\u001b[0;34m\u001b[0m\n\u001b[0;32m----> 1\u001b[0;31m \u001b[0mlen\u001b[0m\u001b[0;34m(\u001b[0m\u001b[0mbenchmark\u001b[0m\u001b[0;34m.\u001b[0m\u001b[0mdatasets\u001b[0m\u001b[0;34m[\u001b[0m\u001b[0;36m0\u001b[0m\u001b[0;34m]\u001b[0m\u001b[0;34m[\u001b[0m\u001b[0;34m'dataset'\u001b[0m\u001b[0;34m]\u001b[0m\u001b[0;34m)\u001b[0m\u001b[0;34m\u001b[0m\u001b[0;34m\u001b[0m\u001b[0m\n\u001b[0m",
      "\u001b[0;31mNameError\u001b[0m: name 'benchmark' is not defined"
     ]
    }
   ],
   "source": [
    "len(benchmark.datasets[0]['dataset'])"
   ]
  },
  {
   "cell_type": "code",
   "execution_count": 6,
   "id": "85e1ca60-41b5-4eaa-8522-5c0a33bd4f84",
   "metadata": {},
   "outputs": [],
   "source": [
    "import json\n",
    "with open('frank_sentence.json', 'w') as f:\n",
    "    f.writelines(json.dumps(benchmark.datasets[0]['dataset']))"
   ]
  },
  {
   "cell_type": "code",
   "execution_count": 18,
   "id": "6c4863e8-eab3-455f-910a-819e6e2d6e75",
   "metadata": {},
   "outputs": [
    {
     "data": {
      "text/plain": [
       "[]"
      ]
     },
     "execution_count": 18,
     "metadata": {},
     "output_type": "execute_result"
    }
   ],
   "source": [
    "result = benchmark.load_frank_sentence_by_error('PredE')\n",
    "result"
   ]
  }
 ],
 "metadata": {
  "kernelspec": {
   "display_name": "Python 3 (ipykernel)",
   "language": "python",
   "name": "python3"
  },
  "language_info": {
   "codemirror_mode": {
    "name": "ipython",
    "version": 3
   },
   "file_extension": ".py",
   "mimetype": "text/x-python",
   "name": "python",
   "nbconvert_exporter": "python",
   "pygments_lexer": "ipython3",
   "version": "3.8.10"
  }
 },
 "nbformat": 4,
 "nbformat_minor": 5
}
